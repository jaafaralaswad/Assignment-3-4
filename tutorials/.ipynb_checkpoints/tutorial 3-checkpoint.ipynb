{
 "cells": [
  {
   "cell_type": "markdown",
   "id": "05d228d6-7cc9-46cb-b15c-f5f05cc3b6ed",
   "metadata": {},
   "source": [
    "### Tutorial 2: FEM failure"
   ]
  },
  {
   "cell_type": "markdown",
   "id": "3840e2a8-7fb7-4d5b-be26-fd12f32015d8",
   "metadata": {},
   "source": [
    "In this tutorial, we study the convergence of hyper-elstic beam subjected to a very, very large load $q^*=-2000 = 1000q$\n",
    "\n",
    "Consider the following beam with the given material and geometry properties\n",
    "\n",
    "![Nonlinear_beam](non-linear-beam.jpeg)"
   ]
  },
  {
   "cell_type": "markdown",
   "id": "023e9b1f-f02a-4729-a4ab-8bea128673de",
   "metadata": {},
   "source": [
    "One can modift how many elements to use in the following code:"
   ]
  },
  {
   "cell_type": "code",
   "execution_count": 9,
   "id": "e65e7cbd-a632-4ba8-9827-35218324eb5c",
   "metadata": {},
   "outputs": [
    {
     "name": "stdout",
     "output_type": "stream",
     "text": [
      "Material properties: mu=6000.000, kappa=4000.000\n",
      "Step 0, load factor = 0.100\n",
      "Iteration 1, Correction=1.000000e+00, Residual=4.856575e+00, tolerance=1.000000e-10\n",
      "Iteration 2, Correction=0.000000e+00, Residual=nan, tolerance=1.000000e-10\n",
      "Step 1, load factor = 0.200\n",
      "dgstrf info 7\n",
      "Iteration 1, Correction=0.000000e+00, Residual=nan, tolerance=1.000000e-10\n",
      "Step 2, load factor = 0.300\n",
      "dgstrf info 7\n",
      "Iteration 1, Correction=0.000000e+00, Residual=nan, tolerance=1.000000e-10\n",
      "Step 3, load factor = 0.400\n",
      "dgstrf info 7\n",
      "Iteration 1, Correction=0.000000e+00, Residual=nan, tolerance=1.000000e-10\n",
      "Step 4, load factor = 0.500\n",
      "dgstrf info 7\n",
      "Iteration 1, Correction=0.000000e+00, Residual=nan, tolerance=1.000000e-10\n",
      "Step 5, load factor = 0.600\n",
      "dgstrf info 7\n",
      "Iteration 1, Correction=0.000000e+00, Residual=nan, tolerance=1.000000e-10\n",
      "Step 6, load factor = 0.700\n",
      "dgstrf info 7\n",
      "Iteration 1, Correction=0.000000e+00, Residual=nan, tolerance=1.000000e-10\n",
      "Step 7, load factor = 0.800\n",
      "dgstrf info 7\n",
      "Iteration 1, Correction=0.000000e+00, Residual=nan, tolerance=1.000000e-10\n",
      "Step 8, load factor = 0.900\n",
      "dgstrf info 7\n",
      "Iteration 1, Correction=0.000000e+00, Residual=nan, tolerance=1.000000e-10\n",
      "Step 9, load factor = 1.000\n",
      "dgstrf info 7\n",
      "Iteration 1, Correction=0.000000e+00, Residual=nan, tolerance=1.000000e-10\n",
      "dgstrf info 7\n"
     ]
    }
   ],
   "source": [
    "import sys\n",
    "import os\n",
    "project_path = os.path.abspath(os.path.join(os.getcwd(), \"..\"))\n",
    "sys.path.append(os.path.join(project_path, \"src\"))\n",
    "\n",
    "\n",
    "from finiteelementanalysis import pre_process as pre\n",
    "from finiteelementanalysis import pre_process_demo_helper_fcns as pre_demo\n",
    "from finiteelementanalysis.solver import hyperelastic_solver\n",
    "from finiteelementanalysis import visualize as viz\n",
    "import matplotlib.pyplot as plt\n",
    "import numpy as np\n",
    "from pathlib import Path\n",
    "tutorials_dir = Path().resolve()\n",
    "\n",
    "# for saving files later\n",
    "tutorials_dir = Path().resolve()\n",
    "\n",
    "# --- Beam geometry ---\n",
    "L = 8.0   # length in x\n",
    "H = 1.0    # height in y\n",
    "nx = 8    # number of elements along length\n",
    "ny = 1     # number of elements along height\n",
    "\n",
    "ele_type = \"D2_nn8_quad\"  # 2D, 4-node quadrilateral (linear)\n",
    "ndof = 2                  # 2 DOFs per node (x, y)\n",
    "\n",
    "# Generate a rectangular mesh\n",
    "coords, connect = pre.generate_rect_mesh_2d(ele_type, 0.0, 0.0, L, H, nx, ny)\n",
    "\n",
    "\n",
    "# --- Identify boundaries ---\n",
    "boundary_nodes, boundary_edges = pre.identify_rect_boundaries(\n",
    "    coords, connect, ele_type, x_lower=0.0, x_upper=L, y_lower=0.0, y_upper=H\n",
    ")\n",
    "\n",
    "# 1) Clamp the left edge: fix x- and y-displacements = 0\n",
    "fixed_left = pre.assign_fixed_nodes_rect(boundary_nodes, \"left\", 0.0, 0.0)\n",
    "\n",
    "# 2) Uniform downward traction on the top edge (y=H)\n",
    "# Let q be negative in the y-direction\n",
    "q = -2000  # load per unit length in x\n",
    "# For a 2D plane strain problem, this is a traction (tx, ty) = (0, q)\n",
    "dload_info = pre.assign_uniform_load_rect(boundary_edges, \"top\", 0.0, q)\n",
    "\n",
    "# Combine boundary conditions\n",
    "fixed_nodes = fixed_left  # only the left edge is clamped\n",
    "\n",
    "# --- Material properties ---\n",
    "E = 12000.0\n",
    "nu = 0.0\n",
    "# mu = E / (2.0 * (1.0 + nu))\n",
    "# kappa = E / (3.0 * (1.0 - 2.0 * nu))\n",
    "mu = E / (2.0 * (1.0 + nu))\n",
    "#kappa = E / (2.0 * (1.0 - nu))\n",
    "kappa = E / (3.0 * (1.0 - 2.0 * nu))\n",
    "\n",
    "material_props = np.array([mu, kappa])\n",
    "print(f\"Material properties: mu={mu:.3f}, kappa={kappa:.3f}\")\n",
    "\n",
    "# Number of incremental load steps\n",
    "nr_num_steps = 10\n",
    "\n",
    "# --- Solve with your hyperelastic solver ---\n",
    "displacements_all, nr_info_all = hyperelastic_solver(\n",
    "    material_props,\n",
    "    ele_type,\n",
    "    coords.T,      # shape (2, n_nodes)\n",
    "    connect.T,     # shape (n_nodes_per_elem, n_elems)\n",
    "    fixed_nodes,\n",
    "    dload_info,\n",
    "    nr_print=True,\n",
    "    nr_num_steps=nr_num_steps,\n",
    "    nr_tol=1e-10,\n",
    "    nr_maxit=30,\n",
    ")\n",
    "\n",
    "final_disp = displacements_all[-1]  # shape: (n_nodes*ndof,)\n",
    "\n",
    "# --- Compute the tip displacement from the FEA result ---\n",
    "# We'll pick a node near x=L, y=H/2\n",
    "tip_node = None\n",
    "tol = 1e-3\n",
    "for i, (x, y) in enumerate(coords):\n",
    "    if abs(x - L) < tol and abs(y - H/2) < H/(2*ny):\n",
    "        tip_node = i\n",
    "        break\n",
    "if tip_node is None:\n",
    "    raise ValueError(\"Could not find tip node near x=L, y=H/2.\")\n",
    "\n",
    "tip_disp_y = final_disp[ndof*tip_node + 1]  # the y-component of displacement\n"
   ]
  },
  {
   "cell_type": "markdown",
   "id": "fba20f4f-a279-4a95-936c-a1db0c794cbf",
   "metadata": {},
   "source": [
    "Because the load is too large, the Newton solver diverges when only ten steps are used!"
   ]
  },
  {
   "cell_type": "markdown",
   "id": "9fae69c7-3c0b-4561-9b42-147631f8ff37",
   "metadata": {},
   "source": [
    "The solver can work if too many steps are used, for example 100 steps."
   ]
  },
  {
   "cell_type": "code",
   "execution_count": null,
   "id": "a24b3784-4782-4960-88d0-d34360a4204e",
   "metadata": {},
   "outputs": [],
   "source": []
  }
 ],
 "metadata": {
  "kernelspec": {
   "display_name": "Python [conda env:base] *",
   "language": "python",
   "name": "conda-base-py"
  },
  "language_info": {
   "codemirror_mode": {
    "name": "ipython",
    "version": 3
   },
   "file_extension": ".py",
   "mimetype": "text/x-python",
   "name": "python",
   "nbconvert_exporter": "python",
   "pygments_lexer": "ipython3",
   "version": "3.12.2"
  }
 },
 "nbformat": 4,
 "nbformat_minor": 5
}
