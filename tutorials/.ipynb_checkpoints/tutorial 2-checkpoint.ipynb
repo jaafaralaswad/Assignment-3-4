{
 "cells": [
  {
   "cell_type": "markdown",
   "id": "05d228d6-7cc9-46cb-b15c-f5f05cc3b6ed",
   "metadata": {},
   "source": [
    "# Tutorial 2: Investigate h- and p- refinements for a large deformation problem"
   ]
  },
  {
   "cell_type": "markdown",
   "id": "3840e2a8-7fb7-4d5b-be26-fd12f32015d8",
   "metadata": {},
   "source": [
    "In this tutorial, we study the convergence of hyper-elstic beam subjected to a large load $q=2$\n",
    "\n",
    "Consider the following beam with the given material and geometry properties\n",
    "\n",
    "![Nonlinear_beam](non-linear-beam.jpeg)"
   ]
  },
  {
   "cell_type": "markdown",
   "id": "023e9b1f-f02a-4729-a4ab-8bea128673de",
   "metadata": {},
   "source": [
    "One can modift how many elements to use in the following code:"
   ]
  },
  {
   "cell_type": "code",
   "execution_count": 1,
   "id": "e65e7cbd-a632-4ba8-9827-35218324eb5c",
   "metadata": {},
   "outputs": [
    {
     "name": "stdout",
     "output_type": "stream",
     "text": [
      "Material properties: mu=30769.231, kappa=66666.667\n",
      "Step 0, load factor = 0.100\n",
      "Iteration 1, Correction=1.000000e+00, Residual=7.284863e-04, tolerance=1.000000e-10\n",
      "Iteration 2, Correction=1.440917e-04, Residual=2.450289e-04, tolerance=1.000000e-10\n",
      "Iteration 3, Correction=2.587529e-09, Residual=1.507299e-11, tolerance=1.000000e-10\n",
      "Iteration 4, Correction=8.634274e-13, Residual=5.193359e-13, tolerance=1.000000e-10\n",
      "Step 1, load factor = 0.200\n",
      "Iteration 1, Correction=5.000119e-01, Residual=7.284863e-04, tolerance=1.000000e-10\n",
      "Iteration 2, Correction=7.203922e-05, Residual=2.450816e-04, tolerance=1.000000e-10\n",
      "Iteration 3, Correction=1.291958e-09, Residual=1.508127e-11, tolerance=1.000000e-10\n",
      "Iteration 4, Correction=7.170987e-14, Residual=4.118037e-13, tolerance=1.000000e-10\n",
      "Step 2, load factor = 0.300\n",
      "Iteration 1, Correction=3.333544e-01, Residual=7.284863e-04, tolerance=1.000000e-10\n",
      "Iteration 2, Correction=4.802175e-05, Residual=2.451342e-04, tolerance=1.000000e-10\n",
      "Iteration 3, Correction=8.595869e-10, Residual=1.503324e-11, tolerance=1.000000e-10\n",
      "Iteration 4, Correction=1.797244e-13, Residual=2.976516e-13, tolerance=1.000000e-10\n",
      "Step 3, load factor = 0.400\n",
      "Iteration 1, Correction=2.500266e-01, Residual=7.284863e-04, tolerance=1.000000e-10\n",
      "Iteration 2, Correction=3.601301e-05, Residual=2.451867e-04, tolerance=1.000000e-10\n",
      "Iteration 3, Correction=6.433331e-10, Residual=1.512394e-11, tolerance=1.000000e-10\n",
      "Iteration 4, Correction=2.409764e-14, Residual=3.299455e-13, tolerance=1.000000e-10\n",
      "Step 4, load factor = 0.500\n",
      "Iteration 1, Correction=2.000303e-01, Residual=7.284863e-04, tolerance=1.000000e-10\n",
      "Iteration 2, Correction=2.880777e-05, Residual=2.452391e-04, tolerance=1.000000e-10\n",
      "Iteration 3, Correction=5.139788e-10, Residual=1.506755e-11, tolerance=1.000000e-10\n",
      "Iteration 4, Correction=1.263586e-13, Residual=3.790406e-13, tolerance=1.000000e-10\n",
      "Step 5, load factor = 0.600\n",
      "Iteration 1, Correction=1.666995e-01, Residual=7.284863e-04, tolerance=1.000000e-10\n",
      "Iteration 2, Correction=2.400428e-05, Residual=2.452914e-04, tolerance=1.000000e-10\n",
      "Iteration 3, Correction=4.275108e-10, Residual=1.520421e-11, tolerance=1.000000e-10\n",
      "Iteration 4, Correction=4.378177e-14, Residual=3.196748e-13, tolerance=1.000000e-10\n",
      "Step 6, load factor = 0.700\n",
      "Iteration 1, Correction=1.428918e-01, Residual=7.284863e-04, tolerance=1.000000e-10\n",
      "Iteration 2, Correction=2.057322e-05, Residual=2.453436e-04, tolerance=1.000000e-10\n",
      "Iteration 3, Correction=3.658041e-10, Residual=1.521355e-11, tolerance=1.000000e-10\n",
      "Iteration 4, Correction=2.138135e-14, Residual=3.521497e-13, tolerance=1.000000e-10\n",
      "Step 7, load factor = 0.800\n",
      "Iteration 1, Correction=1.250361e-01, Residual=7.284863e-04, tolerance=1.000000e-10\n",
      "Iteration 2, Correction=1.799992e-05, Residual=2.453957e-04, tolerance=1.000000e-10\n",
      "Iteration 3, Correction=3.195544e-10, Residual=1.513187e-11, tolerance=1.000000e-10\n",
      "Iteration 4, Correction=2.259203e-14, Residual=3.683210e-13, tolerance=1.000000e-10\n",
      "Step 8, load factor = 0.900\n",
      "Iteration 1, Correction=1.111483e-01, Residual=7.284863e-04, tolerance=1.000000e-10\n",
      "Iteration 2, Correction=1.599847e-05, Residual=2.454477e-04, tolerance=1.000000e-10\n",
      "Iteration 3, Correction=2.835817e-10, Residual=1.512827e-11, tolerance=1.000000e-10\n",
      "Iteration 4, Correction=9.027943e-15, Residual=3.726063e-13, tolerance=1.000000e-10\n",
      "Step 9, load factor = 1.000\n",
      "Iteration 1, Correction=1.000380e-01, Residual=7.284863e-04, tolerance=1.000000e-10\n",
      "Iteration 2, Correction=1.439731e-05, Residual=2.454996e-04, tolerance=1.000000e-10\n",
      "Iteration 3, Correction=2.548459e-10, Residual=1.512704e-11, tolerance=1.000000e-10\n",
      "Iteration 4, Correction=7.414225e-14, Residual=3.838858e-13, tolerance=1.000000e-10\n"
     ]
    }
   ],
   "source": [
    "import sys\n",
    "import os\n",
    "project_path = os.path.abspath(os.path.join(os.getcwd(), \"..\"))\n",
    "sys.path.append(os.path.join(project_path, \"src\"))\n",
    "\n",
    "\n",
    "from finiteelementanalysis import pre_process as pre\n",
    "from finiteelementanalysis import pre_process_demo_helper_fcns as pre_demo\n",
    "from finiteelementanalysis.solver import hyperelastic_solver\n",
    "from finiteelementanalysis import visualize as viz\n",
    "import matplotlib.pyplot as plt\n",
    "import numpy as np\n",
    "from pathlib import Path\n",
    "tutorials_dir = Path().resolve()\n",
    "\n",
    "# for saving files later\n",
    "tutorials_dir = Path().resolve()\n",
    "\n",
    "# --- Beam geometry ---\n",
    "L = 8.0   # length in x\n",
    "H = 1.0    # height in y\n",
    "nx = 8    # number of elements along length\n",
    "ny = 1     # number of elements along height\n",
    "\n",
    "ele_type = \"D2_nn8_quad\"  # 2D, 4-node quadrilateral (linear)\n",
    "ndof = 2                  # 2 DOFs per node (x, y)\n",
    "\n",
    "# Generate a rectangular mesh\n",
    "coords, connect = pre.generate_rect_mesh_2d(ele_type, 0.0, 0.0, L, H, nx, ny)\n",
    "\n",
    "\n",
    "# --- Identify boundaries ---\n",
    "boundary_nodes, boundary_edges = pre.identify_rect_boundaries(\n",
    "    coords, connect, ele_type, x_lower=0.0, x_upper=L, y_lower=0.0, y_upper=H\n",
    ")\n",
    "\n",
    "# 1) Clamp the left edge: fix x- and y-displacements = 0\n",
    "fixed_left = pre.assign_fixed_nodes_rect(boundary_nodes, \"left\", 0.0, 0.0)\n",
    "\n",
    "# 2) Uniform downward traction on the top edge (y=H)\n",
    "# Let q be negative in the y-direction\n",
    "q = -0.3  # load per unit length in x\n",
    "# For a 2D plane strain problem, this is a traction (tx, ty) = (0, q)\n",
    "dload_info = pre.assign_uniform_load_rect(boundary_edges, \"top\", 0.0, q)\n",
    "\n",
    "# Combine boundary conditions\n",
    "fixed_nodes = fixed_left  # only the left edge is clamped\n",
    "\n",
    "# --- Material properties ---\n",
    "E = 80000.0\n",
    "nu = 0.3\n",
    "# mu = E / (2.0 * (1.0 + nu))\n",
    "# kappa = E / (3.0 * (1.0 - 2.0 * nu))\n",
    "mu = E / (2.0 * (1.0 + nu))\n",
    "#kappa = E / (2.0 * (1.0 - nu))\n",
    "kappa = E / (3.0 * (1.0 - 2.0 * nu))\n",
    "\n",
    "material_props = np.array([mu, kappa])\n",
    "print(f\"Material properties: mu={mu:.3f}, kappa={kappa:.3f}\")\n",
    "\n",
    "# Number of incremental load steps\n",
    "nr_num_steps = 10\n",
    "\n",
    "# --- Solve with your hyperelastic solver ---\n",
    "displacements_all, nr_info_all = hyperelastic_solver(\n",
    "    material_props,\n",
    "    ele_type,\n",
    "    coords.T,      # shape (2, n_nodes)\n",
    "    connect.T,     # shape (n_nodes_per_elem, n_elems)\n",
    "    fixed_nodes,\n",
    "    dload_info,\n",
    "    nr_print=True,\n",
    "    nr_num_steps=nr_num_steps,\n",
    "    nr_tol=1e-10,\n",
    "    nr_maxit=30,\n",
    ")\n",
    "\n",
    "final_disp = displacements_all[-1]  # shape: (n_nodes*ndof,)\n",
    "\n",
    "# --- Compute the tip displacement from the FEA result ---\n",
    "# We'll pick a node near x=L, y=H/2\n",
    "tip_node = None\n",
    "tol = 1e-3\n",
    "for i, (x, y) in enumerate(coords):\n",
    "    if abs(x - L) < tol and abs(y - H/2) < H/(2*ny):\n",
    "        tip_node = i\n",
    "        break\n",
    "if tip_node is None:\n",
    "    raise ValueError(\"Could not find tip node near x=L, y=H/2.\")\n",
    "\n",
    "tip_disp_y = final_disp[ndof*tip_node + 1]  # the y-component of displacement\n"
   ]
  },
  {
   "cell_type": "markdown",
   "id": "fba20f4f-a279-4a95-936c-a1db0c794cbf",
   "metadata": {},
   "source": [
    "The tip is calculated to be:"
   ]
  },
  {
   "cell_type": "code",
   "execution_count": 7,
   "id": "6ad70ff7-f9cd-4a7e-a46a-cd97db43af4b",
   "metadata": {},
   "outputs": [
    {
     "name": "stdout",
     "output_type": "stream",
     "text": [
      "Tip node index: 25, coordinates=[8.  0.5]\n",
      "Computed tip deflection (y): -0.020755\n"
     ]
    }
   ],
   "source": [
    "print(f\"Tip node index: {tip_node}, coordinates={coords[tip_node]}\")\n",
    "print(f\"Computed tip deflection (y): {tip_disp_y:.6f}\")\n"
   ]
  },
  {
   "cell_type": "markdown",
   "id": "123022a4-a91a-4e7f-9f0e-2c9395e3f26e",
   "metadata": {},
   "source": [
    "We plot the reference solution that we get from a very fine mesh against the ifferent solutions that we get. The finer the mesh (i.e. the smaller the element), the closer we get to the reference solution.\n",
    "\n",
    "![h-refinement](h-refinement.jpeg)"
   ]
  },
  {
   "cell_type": "markdown",
   "id": "28555272-4f7a-437f-9ce5-3ece2d659e9d",
   "metadata": {},
   "source": [
    "We plot the reference solution that we get from the best mesh against the different solutions that we get using diffrent polynomial orders with same number of elements. The finer the mesh (i.e. the higher the order), the closer we get to the reference solution.\n",
    "\n",
    "![p-refinement](p-refinement.png)"
   ]
  },
  {
   "cell_type": "code",
   "execution_count": null,
   "id": "41042307-1100-4202-a0f2-37cb48600801",
   "metadata": {},
   "outputs": [],
   "source": []
  }
 ],
 "metadata": {
  "kernelspec": {
   "display_name": "Python [conda env:base] *",
   "language": "python",
   "name": "conda-base-py"
  },
  "language_info": {
   "codemirror_mode": {
    "name": "ipython",
    "version": 3
   },
   "file_extension": ".py",
   "mimetype": "text/x-python",
   "name": "python",
   "nbconvert_exporter": "python",
   "pygments_lexer": "ipython3",
   "version": "3.12.2"
  }
 },
 "nbformat": 4,
 "nbformat_minor": 5
}
